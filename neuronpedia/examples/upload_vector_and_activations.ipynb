{
 "cells": [
  {
   "cell_type": "markdown",
   "metadata": {},
   "source": [
    "\n",
    "### IMPORTANT: Set the environment variable `NEURONPEDIA_API_KEY` to your API key first.\n",
    "\n",
    "#### This example uploads a dinosaur vector, tests it with 3 activation strings, then uploads those activations to Neuronpedia."
   ]
  },
  {
   "cell_type": "code",
   "execution_count": null,
   "metadata": {},
   "outputs": [],
   "source": [
    "%pip install neuronpedia\n",
    "\n",
    "from dotenv import load_dotenv\n",
    "\n",
    "# Load NEURONPEDIA_API_KEY from .env file\n",
    "load_dotenv()\n",
    "\n",
    "\n",
    "### [less safe] Set Neuronpedia API key manually (get your key from neuronpedia.org/account)\n",
    "# import os\n",
    "# os.environ[\"NEURONPEDIA_API_KEY\"] = \"YOUR_KEY_HERE\""
   ]
  },
  {
   "cell_type": "code",
   "execution_count": null,
   "metadata": {},
   "outputs": [],
   "source": [
    "from neuronpedia.np_vector import NPVector\n",
    "from neuronpedia.sample_data import GEMMA2_2B_IT_DINOSAURS_VECTOR\n",
    "from pprint import pprint\n",
    "\n",
    "# upload/create the vector\n",
    "np_vector = NPVector.new(\n",
    "    label=\"dinosaurs\",\n",
    "    model_id=\"gemma-2-2b-it\",\n",
    "    layer_num=20,\n",
    "    hook_type=\"hook_resid_pre\",\n",
    "    vector=GEMMA2_2B_IT_DINOSAURS_VECTOR,\n",
    "    default_steer_strength=44,\n",
    ")\n",
    "\n",
    "# we now have a reference to the vector, which we can do stuff with\n",
    "print(np_vector)\n",
    "\n",
    "# this is the public URL to access the vector\n",
    "print(np_vector.url)"
   ]
  },
  {
   "cell_type": "code",
   "execution_count": null,
   "metadata": {},
   "outputs": [],
   "source": [
    "# let's compute some activations using Neuronpedia's API, saving them locally for now\n",
    "activation1 = np_vector.compute_activation_for_text(\"this is a dinosaur\")\n",
    "activation2 = np_vector.compute_activation_for_text(\"i like triceratops\")\n",
    "activation3 = np_vector.compute_activation_for_text(\"fruits are healthy\")\n",
    "\n",
    "activations = [activation1, activation2, activation3]\n",
    "\n",
    "pprint(activations)"
   ]
  },
  {
   "cell_type": "code",
   "execution_count": null,
   "metadata": {},
   "outputs": [],
   "source": [
    "# upload our activations to Neuronpedia\n",
    "np_vector.upload_activations(activations)"
   ]
  },
  {
   "cell_type": "markdown",
   "metadata": {},
   "source": [
    "Let's see the uploaded vector on Neuronpedia, in an embedded IFrame. We can do further testing if we want!"
   ]
  },
  {
   "cell_type": "code",
   "execution_count": null,
   "metadata": {},
   "outputs": [],
   "source": [
    "from IPython.display import IFrame\n",
    "\n",
    "print(np_vector.url)\n",
    "IFrame(np_vector.url + \"?embed=true\", 900, 480)"
   ]
  },
  {
   "cell_type": "markdown",
   "metadata": {},
   "source": [
    "Want to clean it up? You can delete the vector."
   ]
  },
  {
   "cell_type": "code",
   "execution_count": null,
   "metadata": {},
   "outputs": [],
   "source": [
    "np_vector.delete()"
   ]
  }
 ],
 "metadata": {
  "kernelspec": {
   "display_name": ".venv",
   "language": "python",
   "name": "python3"
  },
  "language_info": {
   "codemirror_mode": {
    "name": "ipython",
    "version": 3
   },
   "file_extension": ".py",
   "mimetype": "text/x-python",
   "name": "python",
   "nbconvert_exporter": "python",
   "pygments_lexer": "ipython3",
   "version": "3.12.7"
  }
 },
 "nbformat": 4,
 "nbformat_minor": 2
}
