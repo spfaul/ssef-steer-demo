{
 "cells": [
  {
   "cell_type": "markdown",
   "metadata": {},
   "source": [
    "### This example does a steer completion of a pre-uploaded vector."
   ]
  },
  {
   "cell_type": "code",
   "execution_count": null,
   "metadata": {},
   "outputs": [],
   "source": [
    "%pip install neuronpedia\n"
   ]
  },
  {
   "cell_type": "code",
   "execution_count": 1,
   "metadata": {},
   "outputs": [],
   "source": [
    "import json\n",
    "import webbrowser\n",
    "from neuronpedia.np_vector import NPVector"
   ]
  },
  {
   "cell_type": "code",
   "execution_count": null,
   "metadata": {},
   "outputs": [],
   "source": [
    "# get the vector\n",
    "np_vector = NPVector.get(\n",
    "    model_id=\"gpt2-small\",\n",
    "    source=\"6-neuronpedia-resid-pre\",\n",
    "    index=95594191,\n",
    ")\n",
    "\n",
    "# increase the steer strength to 15\n",
    "np_vector.default_steer_strength = 15\n",
    "\n",
    "# this gives us the ID of the vector, which we can use for steering\n",
    "print(np_vector)"
   ]
  },
  {
   "cell_type": "markdown",
   "metadata": {},
   "source": [
    "Let's steer this feature!"
   ]
  },
  {
   "cell_type": "code",
   "execution_count": null,
   "metadata": {},
   "outputs": [],
   "source": [
    "responseJson = np_vector.steer_completion(prompt=\"Some adjectives: \")"
   ]
  },
  {
   "cell_type": "code",
   "execution_count": null,
   "metadata": {},
   "outputs": [],
   "source": [
    "print(json.dumps(responseJson, indent=2))"
   ]
  },
  {
   "cell_type": "markdown",
   "metadata": {},
   "source": [
    "We can use the \"shareUrl\" that's returned to share and continue steering on the Neuronpedia interface."
   ]
  },
  {
   "cell_type": "code",
   "execution_count": null,
   "metadata": {},
   "outputs": [],
   "source": [
    "print(responseJson[\"shareUrl\"])\n",
    "\n",
    "# open the shareUrl in a new tab\n",
    "webbrowser.open(responseJson[\"shareUrl\"])"
   ]
  }
 ],
 "metadata": {
  "kernelspec": {
   "display_name": ".venv",
   "language": "python",
   "name": "python3"
  },
  "language_info": {
   "codemirror_mode": {
    "name": "ipython",
    "version": 3
   },
   "file_extension": ".py",
   "mimetype": "text/x-python",
   "name": "python",
   "nbconvert_exporter": "python",
   "pygments_lexer": "ipython3",
   "version": "3.12.7"
  }
 },
 "nbformat": 4,
 "nbformat_minor": 2
}
